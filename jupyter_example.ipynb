{
 "cells": [
  {
   "cell_type": "markdown",
   "metadata": {
    "id": "Ftwh4pLJlAX-"
   },
   "source": [
    "# Private Detection of COVID-19 in X-Ray Images (COVID-19 vs. Normal)"
   ]
  },
  {
   "cell_type": "code",
   "execution_count": null,
   "metadata": {},
   "outputs": [],
   "source": [
    "import os\n",
    "env_vars = !cat .env\n",
    "for var in env_vars:\n",
    "    key, value = var.split('=')\n",
    "    os.environ[key] = value"
   ]
  },
  {
   "cell_type": "code",
   "execution_count": null,
   "metadata": {},
   "outputs": [],
   "source": [
    "import mia_covid\n",
    "from mia_covid import datasets, evaluation, experiment, models, settings, training, utils\n",
    "import importlib\n",
    "importlib.reload(mia_covid)\n",
    "importlib.reload(datasets)\n",
    "importlib.reload(evaluation)\n",
    "importlib.reload(experiment)\n",
    "importlib.reload(models)\n",
    "importlib.reload(settings)\n",
    "importlib.reload(training)\n",
    "importlib.reload(utils)"
   ]
  },
  {
   "cell_type": "code",
   "execution_count": null,
   "metadata": {},
   "outputs": [],
   "source": [
    "%run -m mia_covid -d 'covid' -m 'resnet18' -e None"
   ]
  },
  {
   "cell_type": "code",
   "execution_count": null,
   "metadata": {},
   "outputs": [],
   "source": []
  },
  {
   "cell_type": "code",
   "execution_count": null,
   "metadata": {},
   "outputs": [],
   "source": [
    "from tensorflow_privacy.privacy.analysis.compute_dp_sgd_privacy_lib import compute_dp_sgd_privacy\n",
    "# feddpgan analysis\n",
    "eps, order = compute_dp_sgd_privacy( # eps for one client\n",
    "    3600, # full dataset replicated at client\n",
    "    10, # batches of 10 at client\n",
    "    1e-4, # noise for their taken result\n",
    "    5*500, # 5 epochs on client with up to 500 rounds\n",
    "    1e-4 # delta\n",
    ")\n",
    "print('\\n')\n",
    "eps, order = compute_dp_sgd_privacy( # eps for one client\n",
    "    3600, # full dataset replicated at client\n",
    "    10, # batches of 10 at client\n",
    "    1, # highest taken noise\n",
    "    5*500, # 5 epochs on client with up to 500 rounds\n",
    "    1e-4 # delta\n",
    ")"
   ]
  },
  {
   "cell_type": "code",
   "execution_count": null,
   "metadata": {},
   "outputs": [],
   "source": []
  }
 ],
 "metadata": {
  "accelerator": "GPU",
  "colab": {
   "collapsed_sections": [],
   "name": "unique_normal_dpsgd-res18-eps1_pneu.ipynb",
   "provenance": []
  },
  "kernelspec": {
   "display_name": "mia-covid (user)",
   "language": "python",
   "name": "mia-covid"
  },
  "language_info": {
   "codemirror_mode": {
    "name": "ipython",
    "version": 3
   },
   "file_extension": ".py",
   "mimetype": "text/x-python",
   "name": "python",
   "nbconvert_exporter": "python",
   "pygments_lexer": "ipython3",
   "version": "3.9.6"
  }
 },
 "nbformat": 4,
 "nbformat_minor": 4
}
